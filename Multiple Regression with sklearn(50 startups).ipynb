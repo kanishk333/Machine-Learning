{
 "cells": [
  {
   "cell_type": "code",
   "execution_count": 1,
   "metadata": {},
   "outputs": [],
   "source": [
    "import pandas as pd\n",
    "import numpy as np\n",
    "import matplotlib.pyplot as plt"
   ]
  },
  {
   "cell_type": "code",
   "execution_count": 2,
   "metadata": {},
   "outputs": [],
   "source": [
    "df=pd.read_csv(\"50_Startups.csv\")"
   ]
  },
  {
   "cell_type": "code",
   "execution_count": 3,
   "metadata": {},
   "outputs": [
    {
     "data": {
      "text/html": [
       "<div>\n",
       "<style scoped>\n",
       "    .dataframe tbody tr th:only-of-type {\n",
       "        vertical-align: middle;\n",
       "    }\n",
       "\n",
       "    .dataframe tbody tr th {\n",
       "        vertical-align: top;\n",
       "    }\n",
       "\n",
       "    .dataframe thead th {\n",
       "        text-align: right;\n",
       "    }\n",
       "</style>\n",
       "<table border=\"1\" class=\"dataframe\">\n",
       "  <thead>\n",
       "    <tr style=\"text-align: right;\">\n",
       "      <th></th>\n",
       "      <th>R&amp;D Spend</th>\n",
       "      <th>Administration</th>\n",
       "      <th>Marketing Spend</th>\n",
       "      <th>State</th>\n",
       "      <th>Profit</th>\n",
       "    </tr>\n",
       "  </thead>\n",
       "  <tbody>\n",
       "    <tr>\n",
       "      <th>0</th>\n",
       "      <td>165349.20</td>\n",
       "      <td>136897.80</td>\n",
       "      <td>471784.10</td>\n",
       "      <td>New York</td>\n",
       "      <td>192261.83</td>\n",
       "    </tr>\n",
       "    <tr>\n",
       "      <th>1</th>\n",
       "      <td>162597.70</td>\n",
       "      <td>151377.59</td>\n",
       "      <td>443898.53</td>\n",
       "      <td>California</td>\n",
       "      <td>191792.06</td>\n",
       "    </tr>\n",
       "    <tr>\n",
       "      <th>2</th>\n",
       "      <td>153441.51</td>\n",
       "      <td>101145.55</td>\n",
       "      <td>407934.54</td>\n",
       "      <td>Florida</td>\n",
       "      <td>191050.39</td>\n",
       "    </tr>\n",
       "    <tr>\n",
       "      <th>3</th>\n",
       "      <td>144372.41</td>\n",
       "      <td>118671.85</td>\n",
       "      <td>383199.62</td>\n",
       "      <td>New York</td>\n",
       "      <td>182901.99</td>\n",
       "    </tr>\n",
       "    <tr>\n",
       "      <th>4</th>\n",
       "      <td>142107.34</td>\n",
       "      <td>91391.77</td>\n",
       "      <td>366168.42</td>\n",
       "      <td>Florida</td>\n",
       "      <td>166187.94</td>\n",
       "    </tr>\n",
       "  </tbody>\n",
       "</table>\n",
       "</div>"
      ],
      "text/plain": [
       "   R&D Spend  Administration  Marketing Spend       State     Profit\n",
       "0  165349.20       136897.80        471784.10    New York  192261.83\n",
       "1  162597.70       151377.59        443898.53  California  191792.06\n",
       "2  153441.51       101145.55        407934.54     Florida  191050.39\n",
       "3  144372.41       118671.85        383199.62    New York  182901.99\n",
       "4  142107.34        91391.77        366168.42     Florida  166187.94"
      ]
     },
     "execution_count": 3,
     "metadata": {},
     "output_type": "execute_result"
    }
   ],
   "source": [
    "df.head()"
   ]
  },
  {
   "cell_type": "code",
   "execution_count": 4,
   "metadata": {},
   "outputs": [
    {
     "name": "stdout",
     "output_type": "stream",
     "text": [
      "[192261.83 191792.06 191050.39 182901.99 166187.94 156991.12 156122.51\n",
      " 155752.6  152211.77 149759.96 146121.95 144259.4  141585.52 134307.35\n",
      " 132602.65 129917.04 126992.93 125370.37 124266.9  122776.86 118474.03\n",
      " 111313.02 110352.25 108733.99 108552.04 107404.34 105733.54 105008.31\n",
      " 103282.38 101004.64  99937.59  97483.56  97427.84  96778.92  96712.8\n",
      "  96479.51  90708.19  89949.14  81229.06  81005.76  78239.91  77798.83\n",
      "  71498.49  69758.98  65200.33  64926.08  49490.75  42559.73  35673.41\n",
      "  14681.4 ]\n"
     ]
    }
   ],
   "source": [
    "y=df.iloc[:,4].values\n",
    "print(y)"
   ]
  },
  {
   "cell_type": "code",
   "execution_count": 5,
   "metadata": {},
   "outputs": [
    {
     "data": {
      "text/html": [
       "<div>\n",
       "<style scoped>\n",
       "    .dataframe tbody tr th:only-of-type {\n",
       "        vertical-align: middle;\n",
       "    }\n",
       "\n",
       "    .dataframe tbody tr th {\n",
       "        vertical-align: top;\n",
       "    }\n",
       "\n",
       "    .dataframe thead th {\n",
       "        text-align: right;\n",
       "    }\n",
       "</style>\n",
       "<table border=\"1\" class=\"dataframe\">\n",
       "  <thead>\n",
       "    <tr style=\"text-align: right;\">\n",
       "      <th></th>\n",
       "      <th>R&amp;D Spend</th>\n",
       "      <th>Administration</th>\n",
       "      <th>Marketing Spend</th>\n",
       "      <th>State</th>\n",
       "    </tr>\n",
       "  </thead>\n",
       "  <tbody>\n",
       "    <tr>\n",
       "      <th>0</th>\n",
       "      <td>165349.20</td>\n",
       "      <td>136897.80</td>\n",
       "      <td>471784.10</td>\n",
       "      <td>New York</td>\n",
       "    </tr>\n",
       "    <tr>\n",
       "      <th>1</th>\n",
       "      <td>162597.70</td>\n",
       "      <td>151377.59</td>\n",
       "      <td>443898.53</td>\n",
       "      <td>California</td>\n",
       "    </tr>\n",
       "    <tr>\n",
       "      <th>2</th>\n",
       "      <td>153441.51</td>\n",
       "      <td>101145.55</td>\n",
       "      <td>407934.54</td>\n",
       "      <td>Florida</td>\n",
       "    </tr>\n",
       "    <tr>\n",
       "      <th>3</th>\n",
       "      <td>144372.41</td>\n",
       "      <td>118671.85</td>\n",
       "      <td>383199.62</td>\n",
       "      <td>New York</td>\n",
       "    </tr>\n",
       "    <tr>\n",
       "      <th>4</th>\n",
       "      <td>142107.34</td>\n",
       "      <td>91391.77</td>\n",
       "      <td>366168.42</td>\n",
       "      <td>Florida</td>\n",
       "    </tr>\n",
       "  </tbody>\n",
       "</table>\n",
       "</div>"
      ],
      "text/plain": [
       "   R&D Spend  Administration  Marketing Spend       State\n",
       "0  165349.20       136897.80        471784.10    New York\n",
       "1  162597.70       151377.59        443898.53  California\n",
       "2  153441.51       101145.55        407934.54     Florida\n",
       "3  144372.41       118671.85        383199.62    New York\n",
       "4  142107.34        91391.77        366168.42     Florida"
      ]
     },
     "execution_count": 5,
     "metadata": {},
     "output_type": "execute_result"
    }
   ],
   "source": [
    "df.drop(['Profit'],axis=1,inplace=True)\n",
    "df.head()"
   ]
  },
  {
   "cell_type": "code",
   "execution_count": 6,
   "metadata": {},
   "outputs": [],
   "source": [
    "df=pd.get_dummies(df,drop_first=True)"
   ]
  },
  {
   "cell_type": "code",
   "execution_count": 7,
   "metadata": {},
   "outputs": [
    {
     "data": {
      "text/html": [
       "<div>\n",
       "<style scoped>\n",
       "    .dataframe tbody tr th:only-of-type {\n",
       "        vertical-align: middle;\n",
       "    }\n",
       "\n",
       "    .dataframe tbody tr th {\n",
       "        vertical-align: top;\n",
       "    }\n",
       "\n",
       "    .dataframe thead th {\n",
       "        text-align: right;\n",
       "    }\n",
       "</style>\n",
       "<table border=\"1\" class=\"dataframe\">\n",
       "  <thead>\n",
       "    <tr style=\"text-align: right;\">\n",
       "      <th></th>\n",
       "      <th>R&amp;D Spend</th>\n",
       "      <th>Administration</th>\n",
       "      <th>Marketing Spend</th>\n",
       "      <th>State_Florida</th>\n",
       "      <th>State_New York</th>\n",
       "    </tr>\n",
       "  </thead>\n",
       "  <tbody>\n",
       "    <tr>\n",
       "      <th>0</th>\n",
       "      <td>165349.20</td>\n",
       "      <td>136897.80</td>\n",
       "      <td>471784.10</td>\n",
       "      <td>0</td>\n",
       "      <td>1</td>\n",
       "    </tr>\n",
       "    <tr>\n",
       "      <th>1</th>\n",
       "      <td>162597.70</td>\n",
       "      <td>151377.59</td>\n",
       "      <td>443898.53</td>\n",
       "      <td>0</td>\n",
       "      <td>0</td>\n",
       "    </tr>\n",
       "    <tr>\n",
       "      <th>2</th>\n",
       "      <td>153441.51</td>\n",
       "      <td>101145.55</td>\n",
       "      <td>407934.54</td>\n",
       "      <td>1</td>\n",
       "      <td>0</td>\n",
       "    </tr>\n",
       "    <tr>\n",
       "      <th>3</th>\n",
       "      <td>144372.41</td>\n",
       "      <td>118671.85</td>\n",
       "      <td>383199.62</td>\n",
       "      <td>0</td>\n",
       "      <td>1</td>\n",
       "    </tr>\n",
       "    <tr>\n",
       "      <th>4</th>\n",
       "      <td>142107.34</td>\n",
       "      <td>91391.77</td>\n",
       "      <td>366168.42</td>\n",
       "      <td>1</td>\n",
       "      <td>0</td>\n",
       "    </tr>\n",
       "  </tbody>\n",
       "</table>\n",
       "</div>"
      ],
      "text/plain": [
       "   R&D Spend  Administration  Marketing Spend  State_Florida  State_New York\n",
       "0  165349.20       136897.80        471784.10              0               1\n",
       "1  162597.70       151377.59        443898.53              0               0\n",
       "2  153441.51       101145.55        407934.54              1               0\n",
       "3  144372.41       118671.85        383199.62              0               1\n",
       "4  142107.34        91391.77        366168.42              1               0"
      ]
     },
     "execution_count": 7,
     "metadata": {},
     "output_type": "execute_result"
    }
   ],
   "source": [
    "df.head()"
   ]
  },
  {
   "cell_type": "code",
   "execution_count": 8,
   "metadata": {},
   "outputs": [
    {
     "name": "stdout",
     "output_type": "stream",
     "text": [
      "[[1.6534920e+05 1.3689780e+05 4.7178410e+05 0.0000000e+00 1.0000000e+00]\n",
      " [1.6259770e+05 1.5137759e+05 4.4389853e+05 0.0000000e+00 0.0000000e+00]\n",
      " [1.5344151e+05 1.0114555e+05 4.0793454e+05 1.0000000e+00 0.0000000e+00]\n",
      " [1.4437241e+05 1.1867185e+05 3.8319962e+05 0.0000000e+00 1.0000000e+00]\n",
      " [1.4210734e+05 9.1391770e+04 3.6616842e+05 1.0000000e+00 0.0000000e+00]\n",
      " [1.3187690e+05 9.9814710e+04 3.6286136e+05 0.0000000e+00 1.0000000e+00]\n",
      " [1.3461546e+05 1.4719887e+05 1.2771682e+05 0.0000000e+00 0.0000000e+00]\n",
      " [1.3029813e+05 1.4553006e+05 3.2387668e+05 1.0000000e+00 0.0000000e+00]\n",
      " [1.2054252e+05 1.4871895e+05 3.1161329e+05 0.0000000e+00 1.0000000e+00]\n",
      " [1.2333488e+05 1.0867917e+05 3.0498162e+05 0.0000000e+00 0.0000000e+00]\n",
      " [1.0191308e+05 1.1059411e+05 2.2916095e+05 1.0000000e+00 0.0000000e+00]\n",
      " [1.0067196e+05 9.1790610e+04 2.4974455e+05 0.0000000e+00 0.0000000e+00]\n",
      " [9.3863750e+04 1.2732038e+05 2.4983944e+05 1.0000000e+00 0.0000000e+00]\n",
      " [9.1992390e+04 1.3549507e+05 2.5266493e+05 0.0000000e+00 0.0000000e+00]\n",
      " [1.1994324e+05 1.5654742e+05 2.5651292e+05 1.0000000e+00 0.0000000e+00]\n",
      " [1.1452361e+05 1.2261684e+05 2.6177623e+05 0.0000000e+00 1.0000000e+00]\n",
      " [7.8013110e+04 1.2159755e+05 2.6434606e+05 0.0000000e+00 0.0000000e+00]\n",
      " [9.4657160e+04 1.4507758e+05 2.8257431e+05 0.0000000e+00 1.0000000e+00]\n",
      " [9.1749160e+04 1.1417579e+05 2.9491957e+05 1.0000000e+00 0.0000000e+00]\n",
      " [8.6419700e+04 1.5351411e+05 0.0000000e+00 0.0000000e+00 1.0000000e+00]\n",
      " [7.6253860e+04 1.1386730e+05 2.9866447e+05 0.0000000e+00 0.0000000e+00]\n",
      " [7.8389470e+04 1.5377343e+05 2.9973729e+05 0.0000000e+00 1.0000000e+00]\n",
      " [7.3994560e+04 1.2278275e+05 3.0331926e+05 1.0000000e+00 0.0000000e+00]\n",
      " [6.7532530e+04 1.0575103e+05 3.0476873e+05 1.0000000e+00 0.0000000e+00]\n",
      " [7.7044010e+04 9.9281340e+04 1.4057481e+05 0.0000000e+00 1.0000000e+00]\n",
      " [6.4664710e+04 1.3955316e+05 1.3796262e+05 0.0000000e+00 0.0000000e+00]\n",
      " [7.5328870e+04 1.4413598e+05 1.3405007e+05 1.0000000e+00 0.0000000e+00]\n",
      " [7.2107600e+04 1.2786455e+05 3.5318381e+05 0.0000000e+00 1.0000000e+00]\n",
      " [6.6051520e+04 1.8264556e+05 1.1814820e+05 1.0000000e+00 0.0000000e+00]\n",
      " [6.5605480e+04 1.5303206e+05 1.0713838e+05 0.0000000e+00 1.0000000e+00]\n",
      " [6.1994480e+04 1.1564128e+05 9.1131240e+04 1.0000000e+00 0.0000000e+00]\n",
      " [6.1136380e+04 1.5270192e+05 8.8218230e+04 0.0000000e+00 1.0000000e+00]\n",
      " [6.3408860e+04 1.2921961e+05 4.6085250e+04 0.0000000e+00 0.0000000e+00]\n",
      " [5.5493950e+04 1.0305749e+05 2.1463481e+05 1.0000000e+00 0.0000000e+00]\n",
      " [4.6426070e+04 1.5769392e+05 2.1079767e+05 0.0000000e+00 0.0000000e+00]\n",
      " [4.6014020e+04 8.5047440e+04 2.0551764e+05 0.0000000e+00 1.0000000e+00]\n",
      " [2.8663760e+04 1.2705621e+05 2.0112682e+05 1.0000000e+00 0.0000000e+00]\n",
      " [4.4069950e+04 5.1283140e+04 1.9702942e+05 0.0000000e+00 0.0000000e+00]\n",
      " [2.0229590e+04 6.5947930e+04 1.8526510e+05 0.0000000e+00 1.0000000e+00]\n",
      " [3.8558510e+04 8.2982090e+04 1.7499930e+05 0.0000000e+00 0.0000000e+00]\n",
      " [2.8754330e+04 1.1854605e+05 1.7279567e+05 0.0000000e+00 0.0000000e+00]\n",
      " [2.7892920e+04 8.4710770e+04 1.6447071e+05 1.0000000e+00 0.0000000e+00]\n",
      " [2.3640930e+04 9.6189630e+04 1.4800111e+05 0.0000000e+00 0.0000000e+00]\n",
      " [1.5505730e+04 1.2738230e+05 3.5534170e+04 0.0000000e+00 1.0000000e+00]\n",
      " [2.2177740e+04 1.5480614e+05 2.8334720e+04 0.0000000e+00 0.0000000e+00]\n",
      " [1.0002300e+03 1.2415304e+05 1.9039300e+03 0.0000000e+00 1.0000000e+00]\n",
      " [1.3154600e+03 1.1581621e+05 2.9711446e+05 1.0000000e+00 0.0000000e+00]\n",
      " [0.0000000e+00 1.3542692e+05 0.0000000e+00 0.0000000e+00 0.0000000e+00]\n",
      " [5.4205000e+02 5.1743150e+04 0.0000000e+00 0.0000000e+00 1.0000000e+00]\n",
      " [0.0000000e+00 1.1698380e+05 4.5173060e+04 0.0000000e+00 0.0000000e+00]]\n"
     ]
    }
   ],
   "source": [
    "x=df.iloc[:,].values\n",
    "print(x)"
   ]
  },
  {
   "cell_type": "code",
   "execution_count": 9,
   "metadata": {},
   "outputs": [],
   "source": [
    "from sklearn.model_selection import train_test_split"
   ]
  },
  {
   "cell_type": "code",
   "execution_count": 10,
   "metadata": {},
   "outputs": [],
   "source": [
    "train_x,test_x,train_y,test_y=train_test_split(x,y,test_size=0.3,random_state=0)"
   ]
  },
  {
   "cell_type": "code",
   "execution_count": 11,
   "metadata": {},
   "outputs": [],
   "source": [
    "from sklearn.linear_model import LinearRegression\n",
    "from sklearn.metrics import r2_score"
   ]
  },
  {
   "cell_type": "code",
   "execution_count": 12,
   "metadata": {},
   "outputs": [
    {
     "data": {
      "text/plain": [
       "LinearRegression()"
      ]
     },
     "execution_count": 12,
     "metadata": {},
     "output_type": "execute_result"
    }
   ],
   "source": [
    "reg=LinearRegression()\n",
    "reg.fit(train_x,train_y)"
   ]
  },
  {
   "cell_type": "code",
   "execution_count": 13,
   "metadata": {},
   "outputs": [
    {
     "data": {
      "text/plain": [
       "array([104282.76472172, 132536.88499212, 133910.85007766,  72584.77489417,\n",
       "       179920.9276189 , 114549.31079234,  66444.43261346,  98404.96840122,\n",
       "       114499.82808602, 169367.50639895,  96522.6253998 ,  88040.6718287 ,\n",
       "       110949.99405525,  90419.1897851 , 128020.46250064])"
      ]
     },
     "execution_count": 13,
     "metadata": {},
     "output_type": "execute_result"
    }
   ],
   "source": [
    "y_pred=reg.predict(test_x)\n",
    "y_pred"
   ]
  },
  {
   "cell_type": "code",
   "execution_count": 14,
   "metadata": {},
   "outputs": [
    {
     "data": {
      "text/plain": [
       "0.9358680970046243"
      ]
     },
     "execution_count": 14,
     "metadata": {},
     "output_type": "execute_result"
    }
   ],
   "source": [
    "r2_score(test_y,y_pred)"
   ]
  },
  {
   "cell_type": "code",
   "execution_count": null,
   "metadata": {},
   "outputs": [],
   "source": []
  }
 ],
 "metadata": {
  "kernelspec": {
   "display_name": "Python 3",
   "language": "python",
   "name": "python3"
  },
  "language_info": {
   "codemirror_mode": {
    "name": "ipython",
    "version": 3
   },
   "file_extension": ".py",
   "mimetype": "text/x-python",
   "name": "python",
   "nbconvert_exporter": "python",
   "pygments_lexer": "ipython3",
   "version": "3.7.3"
  }
 },
 "nbformat": 4,
 "nbformat_minor": 2
}
